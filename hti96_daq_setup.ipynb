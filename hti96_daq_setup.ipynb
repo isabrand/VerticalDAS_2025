{
 "cells": [
  {
   "cell_type": "markdown",
   "id": "aa8d430e",
   "metadata": {},
   "source": [
    "## Set up and record data on a dip hydrophone"
   ]
  },
  {
   "cell_type": "code",
   "execution_count": 1,
   "id": "b07eb5a0",
   "metadata": {},
   "outputs": [
    {
     "ename": "DaqNotFoundError",
     "evalue": "Could not find an installation of NI-DAQmx. Please ensure that NI-DAQmx is installed on this machine or contact National Instruments for support.",
     "output_type": "error",
     "traceback": [
      "\u001b[0;31m---------------------------------------------------------------------------\u001b[0m",
      "\u001b[0;31mDaqNotFoundError\u001b[0m                          Traceback (most recent call last)",
      "Cell \u001b[0;32mIn[1], line 5\u001b[0m\n\u001b[1;32m      2\u001b[0m \u001b[38;5;28;01mfrom\u001b[39;00m\u001b[38;5;250m \u001b[39m\u001b[38;5;21;01mnidaqmx\u001b[39;00m\u001b[38;5;21;01m.\u001b[39;00m\u001b[38;5;21;01mconstants\u001b[39;00m\u001b[38;5;250m \u001b[39m\u001b[38;5;28;01mimport\u001b[39;00m TerminalConfiguration, AcquisitionType\n\u001b[1;32m      4\u001b[0m \u001b[38;5;66;03m# Configure Task\u001b[39;00m\n\u001b[0;32m----> 5\u001b[0m \u001b[38;5;28;01mwith\u001b[39;00m \u001b[43mnidaqmx\u001b[49m\u001b[38;5;241;43m.\u001b[39;49m\u001b[43mTask\u001b[49m\u001b[43m(\u001b[49m\u001b[43m)\u001b[49m \u001b[38;5;28;01mas\u001b[39;00m task:\n\u001b[1;32m      6\u001b[0m     \u001b[38;5;66;03m# Setup analog input channel (single-ended mode)\u001b[39;00m\n\u001b[1;32m      7\u001b[0m     task\u001b[38;5;241m.\u001b[39mai_channels\u001b[38;5;241m.\u001b[39madd_ai_voltage_chan(\n\u001b[1;32m      8\u001b[0m         \u001b[38;5;124m\"\u001b[39m\u001b[38;5;124mDev1/ai0\u001b[39m\u001b[38;5;124m\"\u001b[39m,                        \u001b[38;5;66;03m# Use AI 0 (Pin 1)\u001b[39;00m\n\u001b[1;32m      9\u001b[0m         terminal_config\u001b[38;5;241m=\u001b[39mTerminalConfiguration\u001b[38;5;241m.\u001b[39mRSE,  \u001b[38;5;66;03m# Referenced Single-Ended\u001b[39;00m\n\u001b[1;32m     10\u001b[0m         min_val\u001b[38;5;241m=\u001b[39m\u001b[38;5;241m-\u001b[39m\u001b[38;5;241m1.0\u001b[39m, max_val\u001b[38;5;241m=\u001b[39m\u001b[38;5;241m1.0\u001b[39m           \u001b[38;5;66;03m# Adjust to hydrophone's output range\u001b[39;00m\n\u001b[1;32m     11\u001b[0m     )\n\u001b[1;32m     13\u001b[0m     \u001b[38;5;66;03m# Configure sampling\u001b[39;00m\n",
      "File \u001b[0;32m~/.conda/envs/odl/lib/python3.12/site-packages/nidaqmx/task/_task.py:95\u001b[0m, in \u001b[0;36mTask.__init__\u001b[0;34m(self, new_task_name, grpc_options)\u001b[0m\n\u001b[1;32m     87\u001b[0m \u001b[38;5;28;01mif\u001b[39;00m grpc_options \u001b[38;5;129;01mand\u001b[39;00m \u001b[38;5;129;01mnot\u001b[39;00m (\n\u001b[1;32m     88\u001b[0m     grpc_options\u001b[38;5;241m.\u001b[39msession_name \u001b[38;5;241m==\u001b[39m \u001b[38;5;124m\"\u001b[39m\u001b[38;5;124m\"\u001b[39m \u001b[38;5;129;01mor\u001b[39;00m grpc_options\u001b[38;5;241m.\u001b[39msession_name \u001b[38;5;241m==\u001b[39m new_task_name\n\u001b[1;32m     89\u001b[0m ):\n\u001b[1;32m     90\u001b[0m     \u001b[38;5;28;01mraise\u001b[39;00m DaqError(\n\u001b[1;32m     91\u001b[0m         \u001b[38;5;124mf\u001b[39m\u001b[38;5;124m'\u001b[39m\u001b[38;5;124mUnsupported session name: \u001b[39m\u001b[38;5;124m\"\u001b[39m\u001b[38;5;132;01m{\u001b[39;00mgrpc_options\u001b[38;5;241m.\u001b[39msession_name\u001b[38;5;132;01m}\u001b[39;00m\u001b[38;5;124m\"\u001b[39m\u001b[38;5;124m. If a session name is specified, it must match the task name.\u001b[39m\u001b[38;5;124m'\u001b[39m,\n\u001b[1;32m     92\u001b[0m         DAQmxErrors\u001b[38;5;241m.\u001b[39mUNKNOWN,\n\u001b[1;32m     93\u001b[0m         task_name\u001b[38;5;241m=\u001b[39mnew_task_name)\n\u001b[0;32m---> 95\u001b[0m \u001b[38;5;28mself\u001b[39m\u001b[38;5;241m.\u001b[39m_interpreter \u001b[38;5;241m=\u001b[39m \u001b[43mutils\u001b[49m\u001b[38;5;241;43m.\u001b[39;49m\u001b[43m_select_interpreter\u001b[49m\u001b[43m(\u001b[49m\u001b[43mgrpc_options\u001b[49m\u001b[43m)\u001b[49m\n\u001b[1;32m     96\u001b[0m \u001b[38;5;28mself\u001b[39m\u001b[38;5;241m.\u001b[39m_handle, \u001b[38;5;28mself\u001b[39m\u001b[38;5;241m.\u001b[39m_close_on_exit \u001b[38;5;241m=\u001b[39m \u001b[38;5;28mself\u001b[39m\u001b[38;5;241m.\u001b[39m_interpreter\u001b[38;5;241m.\u001b[39mcreate_task(new_task_name)\n\u001b[1;32m     98\u001b[0m \u001b[38;5;28mself\u001b[39m\u001b[38;5;241m.\u001b[39m_initialize(\u001b[38;5;28mself\u001b[39m\u001b[38;5;241m.\u001b[39m_handle, \u001b[38;5;28mself\u001b[39m\u001b[38;5;241m.\u001b[39m_interpreter)\n",
      "File \u001b[0;32m~/.conda/envs/odl/lib/python3.12/site-packages/nidaqmx/utils.py:211\u001b[0m, in \u001b[0;36m_select_interpreter\u001b[0;34m(grpc_options, interpreter)\u001b[0m\n\u001b[1;32m    209\u001b[0m \u001b[38;5;28;01melse\u001b[39;00m:\n\u001b[1;32m    210\u001b[0m     \u001b[38;5;28;01mfrom\u001b[39;00m\u001b[38;5;250m \u001b[39m\u001b[38;5;21;01mnidaqmx\u001b[39;00m\u001b[38;5;21;01m.\u001b[39;00m\u001b[38;5;21;01m_library_interpreter\u001b[39;00m\u001b[38;5;250m \u001b[39m\u001b[38;5;28;01mimport\u001b[39;00m LibraryInterpreter\n\u001b[0;32m--> 211\u001b[0m     \u001b[38;5;28;01mreturn\u001b[39;00m \u001b[43mLibraryInterpreter\u001b[49m\u001b[43m(\u001b[49m\u001b[43m)\u001b[49m\n",
      "File \u001b[0;32m~/.conda/envs/odl/lib/python3.12/site-packages/nidaqmx/_library_interpreter.py:53\u001b[0m, in \u001b[0;36mLibraryInterpreter.__init__\u001b[0;34m(self)\u001b[0m\n\u001b[1;32m     51\u001b[0m     runtime_env \u001b[38;5;241m=\u001b[39m platform\u001b[38;5;241m.\u001b[39mpython_implementation()\n\u001b[1;32m     52\u001b[0m     version \u001b[38;5;241m=\u001b[39m platform\u001b[38;5;241m.\u001b[39mpython_version()\n\u001b[0;32m---> 53\u001b[0m     \u001b[38;5;28;43mself\u001b[39;49m\u001b[38;5;241;43m.\u001b[39;49m\u001b[43mset_runtime_environment\u001b[49m\u001b[43m(\u001b[49m\n\u001b[1;32m     54\u001b[0m \u001b[43m        \u001b[49m\u001b[43mruntime_env\u001b[49m\u001b[43m,\u001b[49m\n\u001b[1;32m     55\u001b[0m \u001b[43m        \u001b[49m\u001b[43mversion\u001b[49m\u001b[43m,\u001b[49m\n\u001b[1;32m     56\u001b[0m \u001b[43m        \u001b[49m\u001b[38;5;124;43m'\u001b[39;49m\u001b[38;5;124;43m'\u001b[39;49m\u001b[43m,\u001b[49m\n\u001b[1;32m     57\u001b[0m \u001b[43m        \u001b[49m\u001b[38;5;124;43m'\u001b[39;49m\u001b[38;5;124;43m'\u001b[39;49m\n\u001b[1;32m     58\u001b[0m \u001b[43m    \u001b[49m\u001b[43m)\u001b[49m\n\u001b[1;32m     59\u001b[0m \u001b[38;5;28;01mexcept\u001b[39;00m DaqFunctionNotSupportedError:\n\u001b[1;32m     60\u001b[0m     \u001b[38;5;28;01mpass\u001b[39;00m\n",
      "File \u001b[0;32m~/.conda/envs/odl/lib/python3.12/site-packages/nidaqmx/_library_interpreter.py:5310\u001b[0m, in \u001b[0;36mLibraryInterpreter.set_runtime_environment\u001b[0;34m(self, environment, environment_version, reserved_1, reserved_2)\u001b[0m\n\u001b[1;32m   5308\u001b[0m \u001b[38;5;28;01mdef\u001b[39;00m\u001b[38;5;250m \u001b[39m\u001b[38;5;21mset_runtime_environment\u001b[39m(\n\u001b[1;32m   5309\u001b[0m         \u001b[38;5;28mself\u001b[39m, environment, environment_version, reserved_1, reserved_2):\n\u001b[0;32m-> 5310\u001b[0m     cfunc \u001b[38;5;241m=\u001b[39m \u001b[43mlib_importer\u001b[49m\u001b[38;5;241;43m.\u001b[39;49m\u001b[43mwindll\u001b[49m\u001b[38;5;241m.\u001b[39mDAQmxSetRuntimeEnvironment\n\u001b[1;32m   5311\u001b[0m     \u001b[38;5;28;01mif\u001b[39;00m cfunc\u001b[38;5;241m.\u001b[39margtypes \u001b[38;5;129;01mis\u001b[39;00m \u001b[38;5;28;01mNone\u001b[39;00m:\n\u001b[1;32m   5312\u001b[0m         \u001b[38;5;28;01mwith\u001b[39;00m cfunc\u001b[38;5;241m.\u001b[39marglock:\n",
      "File \u001b[0;32m~/.conda/envs/odl/lib/python3.12/site-packages/nidaqmx/_lib.py:146\u001b[0m, in \u001b[0;36mDaqLibImporter.windll\u001b[0;34m(self)\u001b[0m\n\u001b[1;32m    143\u001b[0m \u001b[38;5;129m@property\u001b[39m\n\u001b[1;32m    144\u001b[0m \u001b[38;5;28;01mdef\u001b[39;00m\u001b[38;5;250m \u001b[39m\u001b[38;5;21mwindll\u001b[39m(\u001b[38;5;28mself\u001b[39m):\n\u001b[1;32m    145\u001b[0m     \u001b[38;5;28;01mif\u001b[39;00m \u001b[38;5;28mself\u001b[39m\u001b[38;5;241m.\u001b[39m_windll \u001b[38;5;129;01mis\u001b[39;00m \u001b[38;5;28;01mNone\u001b[39;00m:\n\u001b[0;32m--> 146\u001b[0m         \u001b[38;5;28;43mself\u001b[39;49m\u001b[38;5;241;43m.\u001b[39;49m\u001b[43m_import_lib\u001b[49m\u001b[43m(\u001b[49m\u001b[43m)\u001b[49m\n\u001b[1;32m    147\u001b[0m     \u001b[38;5;28;01mreturn\u001b[39;00m \u001b[38;5;28mself\u001b[39m\u001b[38;5;241m.\u001b[39m_windll\n",
      "File \u001b[0;32m~/.conda/envs/odl/lib/python3.12/site-packages/nidaqmx/_lib.py:222\u001b[0m, in \u001b[0;36mDaqLibImporter._import_lib\u001b[0;34m(self)\u001b[0m\n\u001b[1;32m    220\u001b[0m         encoding \u001b[38;5;241m=\u001b[39m get_encoding_from_locale()\n\u001b[1;32m    221\u001b[0m     \u001b[38;5;28;01melse\u001b[39;00m:\n\u001b[0;32m--> 222\u001b[0m         \u001b[38;5;28;01mraise\u001b[39;00m DaqNotFoundError(_DAQ_NOT_FOUND_MESSAGE)\n\u001b[1;32m    223\u001b[0m \u001b[38;5;28;01melse\u001b[39;00m:\n\u001b[1;32m    224\u001b[0m     \u001b[38;5;28;01mraise\u001b[39;00m DaqNotSupportedError(_DAQ_NOT_SUPPORTED_MESSAGE\u001b[38;5;241m.\u001b[39mformat(sys\u001b[38;5;241m.\u001b[39mplatform))\n",
      "\u001b[0;31mDaqNotFoundError\u001b[0m: Could not find an installation of NI-DAQmx. Please ensure that NI-DAQmx is installed on this machine or contact National Instruments for support."
     ]
    }
   ],
   "source": [
    "import nidaqmx\n",
    "from nidaqmx.constants import TerminalConfiguration, AcquisitionType\n",
    "\n",
    "# Configure Task\n",
    "with nidaqmx.Task() as task:\n",
    "    # Setup analog input channel (single-ended mode)\n",
    "    task.ai_channels.add_ai_voltage_chan(\n",
    "        \"Dev1/ai0\",                        # Use AI 0 (Pin 1)\n",
    "        terminal_config=TerminalConfiguration.RSE,  # Referenced Single-Ended\n",
    "        min_val=-1.0, max_val=1.0           # Adjust to hydrophone's output range\n",
    "    )\n",
    "    \n",
    "    # Configure sampling\n",
    "    task.timing.cfg_samp_clk_timing(\n",
    "        rate=50000,                         # Sample rate (Hz)\n",
    "        sample_mode=AcquisitionType.FINITE,  # Continuous or finite samples\n",
    "        samps_per_chan=1000                 # Samples to read\n",
    "    )\n",
    "    \n",
    "    # Read data\n",
    "    data = task.read(number_of_samples_per_channel=1000)\n",
    "    print(\"Acquired data:\", data)"
   ]
  }
 ],
 "metadata": {
  "kernelspec": {
   "display_name": "odl",
   "language": "python",
   "name": "python3"
  },
  "language_info": {
   "codemirror_mode": {
    "name": "ipython",
    "version": 3
   },
   "file_extension": ".py",
   "mimetype": "text/x-python",
   "name": "python",
   "nbconvert_exporter": "python",
   "pygments_lexer": "ipython3",
   "version": "3.12.8"
  }
 },
 "nbformat": 4,
 "nbformat_minor": 5
}
